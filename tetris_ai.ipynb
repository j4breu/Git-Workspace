{
  "nbformat": 4,
  "nbformat_minor": 0,
  "metadata": {
    "colab": {
      "provenance": [],
      "collapsed_sections": [
        "Ll1FJKQcIlmt",
        "wWRYdkJzIqW3",
        "jobbL8_pIuxP"
      ],
      "include_colab_link": true
    },
    "kernelspec": {
      "name": "python3",
      "display_name": "Python 3"
    }
  },
  "cells": [
    {
      "cell_type": "markdown",
      "metadata": {
        "id": "view-in-github",
        "colab_type": "text"
      },
      "source": [
        "<a href=\"https://colab.research.google.com/github/j4breu/Git-Workspace/blob/main/tetris_ai.ipynb\" target=\"_parent\"><img src=\"https://colab.research.google.com/assets/colab-badge.svg\" alt=\"Open In Colab\"/></a>"
      ]
    },
    {
      "cell_type": "markdown",
      "metadata": {
        "id": "Ll1FJKQcIlmt"
      },
      "source": [
        "##Install pygame"
      ]
    },
    {
      "cell_type": "code",
      "metadata": {
        "id": "trViUvbXAGlj",
        "colab": {
          "base_uri": "https://localhost:8080/"
        },
        "outputId": "f8cd83ec-8959-4f70-ed20-623be2777962"
      },
      "source": [
        "!pip install pygame"
      ],
      "execution_count": 140,
      "outputs": [
        {
          "output_type": "stream",
          "name": "stdout",
          "text": [
            "Requirement already satisfied: pygame in /usr/local/lib/python3.10/dist-packages (2.5.2)\n"
          ]
        }
      ]
    },
    {
      "cell_type": "markdown",
      "metadata": {
        "id": "wWRYdkJzIqW3"
      },
      "source": [
        "##Dependencies"
      ]
    },
    {
      "cell_type": "code",
      "metadata": {
        "id": "7X42jJWlAuSl"
      },
      "source": [
        "import cv2\n",
        "from os import environ\n",
        "\n",
        "from google.colab.patches import cv2_imshow\n",
        "from google.colab import output"
      ],
      "execution_count": 141,
      "outputs": []
    },
    {
      "cell_type": "markdown",
      "metadata": {
        "id": "jobbL8_pIuxP"
      },
      "source": [
        "##Fool system to think it has a video access"
      ]
    },
    {
      "cell_type": "code",
      "metadata": {
        "id": "bBd7TdlTAN9s"
      },
      "source": [
        "# set SDL to use the dummy NULL video driver,\n",
        "#   so it doesn't need a windowing system.\n",
        "environ[\"SDL_VIDEODRIVER\"] = \"dummy\""
      ],
      "execution_count": 142,
      "outputs": []
    },
    {
      "cell_type": "markdown",
      "metadata": {
        "id": "lFqI32cMI2vq"
      },
      "source": [
        "##Settings"
      ]
    },
    {
      "cell_type": "code",
      "source": [
        "import pygame\n",
        "\n",
        "# Game size\n",
        "COLUMNS = 10\n",
        "ROWS = 20\n",
        "CELL_SIZE = 40\n",
        "GAME_WIDTH, GAME_HEIGHT = COLUMNS * CELL_SIZE, ROWS * CELL_SIZE\n",
        "\n",
        "# window\n",
        "PADDING = 20\n",
        "WINDOW_WIDTH = GAME_WIDTH + PADDING * 2\n",
        "WINDOW_HEIGHT = GAME_HEIGHT + PADDING * 2\n",
        "\n",
        "# game behaviour\n",
        "UPDATE_START_SPEED = 50\n",
        "MOVE_WAIT_TIME = 50\n",
        "ROTATE_WAIT_TIME = 50\n",
        "BLOCK_OFFSET = pygame.Vector2(COLUMNS // 2 - 1, 2)\n",
        "\n",
        "# Colors\n",
        "YELLOW = '#f1e60d'\n",
        "RED = '#e51b20'\n",
        "BLUE = '#204b9b'\n",
        "GREEN = '#65b32e'\n",
        "PURPLE = '#7b217f'\n",
        "CYAN = '#6cc6d9'\n",
        "ORANGE = '#f07e13'\n",
        "GRAY = '#1C1C1C'\n",
        "LINE_COLOR = '#FFFFFF'\n",
        "\n",
        "# shapes\n",
        "TETROMINOS = {\n",
        "\t'T': {'shape': [(0,0), (-1,0), (1,0), (0,-1)], 'color': PURPLE},\n",
        "\t'O': {'shape': [(0,0), (0,-1), (1,0), (1,-1)], 'color': YELLOW},\n",
        "\t'J': {'shape': [(0,0), (0,-1), (0,1), (-1,1)], 'color': BLUE},\n",
        "\t'L': {'shape': [(0,0), (0,-1), (0,1), (1,1)], 'color': ORANGE},\n",
        "\t'I': {'shape': [(0,0), (0,-1), (0,-2), (0,1)], 'color': CYAN},\n",
        "\t'S': {'shape': [(0,0), (-1,0), (0,-1), (1,-1)], 'color': GREEN},\n",
        "\t'Z': {'shape': [(0,0), (1,0), (0,-1), (-1,-1)], 'color': RED}\n",
        "}\n",
        "\n",
        "SCORE_DATA = {1: 40, 2: 100, 3: 300, 4: 1200}"
      ],
      "metadata": {
        "id": "GH0c4piVbcVd"
      },
      "execution_count": 143,
      "outputs": []
    },
    {
      "cell_type": "markdown",
      "source": [
        "##Game"
      ],
      "metadata": {
        "id": "35RpdHE5i5nQ"
      }
    },
    {
      "cell_type": "code",
      "source": [
        "from random import choice\n",
        "\n",
        "class Game:\n",
        "  def __init__(self):\n",
        "\n",
        "    # general\n",
        "    self.surface = pygame.Surface((GAME_WIDTH,GAME_HEIGHT))\n",
        "    self.rect = self.surface.get_rect(topleft = (PADDING,PADDING))\n",
        "    self.display_surface = pygame.display.get_surface()\n",
        "    self.sprites = pygame.sprite.Group()\n",
        "\n",
        "    # lines\n",
        "    self.line_surface = self.surface.copy()\n",
        "    self.line_surface.fill((0,255,0))\n",
        "    self.line_surface.set_colorkey((0,255,0))\n",
        "\n",
        "    # tetromino\n",
        "    self.field_data = [[0 for x in range(COLUMNS)] for y in range(ROWS)]\n",
        "    self.tetromino = Tetromino(\n",
        "        choice(list(TETROMINOS.keys())),\n",
        "        self.sprites,\n",
        "        self.create_new_tetromino,\n",
        "        self.field_data)\n",
        "\n",
        "    # timer\n",
        "    self.timers = {\n",
        "        'vertical move': Timer(UPDATE_START_SPEED, True, self.move_down),\n",
        "        'horizontal move': Timer(MOVE_WAIT_TIME),\n",
        "        'rotate': Timer(ROTATE_WAIT_TIME)\n",
        "    }\n",
        "    self.timers['vertical move'].activate()\n",
        "\n",
        "  def draw_grid(self):\n",
        "    for col in range(1, COLUMNS):\n",
        "      x = col * CELL_SIZE\n",
        "      pygame.draw.line(self.surface, LINE_COLOR, (x,0), (x,self.surface.get_height()), 1)\n",
        "\n",
        "    for row in range(1, ROWS):\n",
        "      y = row * CELL_SIZE\n",
        "      pygame.draw.line(self.surface, LINE_COLOR, (0,y), (self.surface.get_width(),y), 1)\n",
        "\n",
        "    self.surface.blit(self.line_surface, (0,0))\n",
        "\n",
        "  def check_finished_rows(self):\n",
        "\n",
        "    # get the full row indexes\n",
        "    delete_rows = []\n",
        "    for i, row in enumerate(self.field_data):\n",
        "      if all(row):\n",
        "        delete_rows.append(i)\n",
        "\n",
        "    if delete_rows:\n",
        "      for delete_row in delete_rows:\n",
        "\n",
        "        # delete full rows\n",
        "        for block in self.field_data[delete_row]:\n",
        "          block.kill()\n",
        "\n",
        "        # move down blocks\n",
        "        for row in self.field_data:\n",
        "          for block in row:\n",
        "            if block and block.pos.y < delete_row:\n",
        "              block.pos.y += 1\n",
        "\n",
        "      # rebuild the field data\n",
        "      self.field_data = [[0 for x in range(COLUMNS)] for y in range(ROWS)]\n",
        "      for block in self.sprites:\n",
        "        self.field_data[int(block.pos.y)][int(block.pos.x)] = block\n",
        "\n",
        "  # tetromino\n",
        "  def create_new_tetromino(self):\n",
        "    self.check_finished_rows()\n",
        "    self.tetromino = Tetromino(\n",
        "        choice(list(TETROMINOS.keys())),\n",
        "        self.sprites,\n",
        "        self.create_new_tetromino,\n",
        "        self.field_data)\n",
        "\n",
        "    self.ai = AI(self.tetromino, self.field_data)\n",
        "    ideal_pos, ideal_rotation = self.ai.search_move()\n",
        "\n",
        "    if ideal_pos > 0:\n",
        "      for i in range(ideal_pos):\n",
        "        self.tetromino.move_horizontal(-1)\n",
        "        ideal_pos =-1\n",
        "\n",
        "    if ideal_pos < 0:\n",
        "      ideal_pos *= -1\n",
        "      for i in range(ideal_pos):\n",
        "        self.tetromino.move_horizontal(1)\n",
        "        ideal_pos =-1\n",
        "\n",
        "    while ideal_rotation:\n",
        "      for i in range(ideal_rotation):\n",
        "        self.tetromino.rotate()\n",
        "        ideal_rotation =-1\n",
        "\n",
        "  # movements\n",
        "  def move_down(self):\n",
        "    self.tetromino.move_down()\n",
        "\n",
        "  def timer_update(self):\n",
        "    for timer in self.timers.values():\n",
        "      timer.update()\n",
        "\n",
        "  def run(self):\n",
        "\n",
        "    # update\n",
        "    self.timer_update()\n",
        "    self.sprites.update()\n",
        "\n",
        "    # drawing\n",
        "    self.surface.fill(GRAY)\n",
        "    self.sprites.draw(self.surface)\n",
        "\n",
        "    self.draw_grid()\n",
        "    self.display_surface.blit(self.surface, (PADDING,PADDING))\n",
        "    pygame.draw.rect(self.display_surface, LINE_COLOR, self.rect, 2, 2)"
      ],
      "metadata": {
        "id": "KCyZKCMEi85g"
      },
      "execution_count": 144,
      "outputs": []
    },
    {
      "cell_type": "markdown",
      "source": [
        "##AI"
      ],
      "metadata": {
        "id": "-fGlSZHw0RWX"
      }
    },
    {
      "cell_type": "code",
      "source": [
        "class AI:\n",
        "  def __init__(self, tetromino, field_data):\n",
        "\n",
        "    # setup\n",
        "    self.tetromino = tetromino\n",
        "    self.field_data = field_data\n",
        "\n",
        "  def search_move(self):\n",
        "\n",
        "    # compare\n",
        "\n",
        "    # select\n",
        "    return (1,1)"
      ],
      "metadata": {
        "id": "4uAZNZda0U68"
      },
      "execution_count": 145,
      "outputs": []
    },
    {
      "cell_type": "markdown",
      "source": [
        "##Tetromino"
      ],
      "metadata": {
        "id": "p_A9z6_FZ3Qo"
      }
    },
    {
      "cell_type": "code",
      "source": [
        "class Tetromino:\n",
        "  def __init__(self, shape, group, create_new_tetromino, field_data):\n",
        "\n",
        "    # setup\n",
        "    self.shape = shape\n",
        "    self.block_positions = TETROMINOS[shape]['shape']\n",
        "    self.color = TETROMINOS[shape]['color']\n",
        "    self.create_new_tetromino = create_new_tetromino\n",
        "    self.field_data = field_data\n",
        "\n",
        "    # create blocks\n",
        "    self.blocks = [Block(group, pos, self.color) for pos in self.block_positions]\n",
        "\n",
        "  # collisions\n",
        "  def next_move_horizontal_collide(self, blocks, amount):\n",
        "    collision_list = [block.horizontal_collide(int(block.pos.x + amount), self.field_data) for block in self.blocks]\n",
        "    return True if any(collision_list) else False\n",
        "\n",
        "  def next_move_vertical_collide(self, blocks, amount):\n",
        "    collision_list = [block.vertical_collide(int(block.pos.y + amount), self.field_data) for block in self.blocks]\n",
        "    return True if any(collision_list) else False\n",
        "\n",
        "  # movement\n",
        "  def move_horizontal(self, amount):\n",
        "    if not self.next_move_horizontal_collide(self.blocks, amount):\n",
        "      for block in self.blocks:\n",
        "        block.pos.x += amount\n",
        "\n",
        "  def move_down(self):\n",
        "    if not self.next_move_vertical_collide(self.blocks, 1):\n",
        "      for block in self.blocks:\n",
        "        block.pos.y += 1\n",
        "    else:\n",
        "      for block in self.blocks:\n",
        "        self.field_data[int(block.pos.y)][int(block.pos.x)] = block\n",
        "      self.create_new_tetromino()\n",
        "\n",
        "  # rotate\n",
        "  def rotate(self):\n",
        "    if self.shape != 'O':\n",
        "\n",
        "      # 1. pivot point\n",
        "      pivot_pos = self.blocks[0].pos\n",
        "\n",
        "      # 2. new block positions\n",
        "      new_block_positions = [block.rotate(pivot_pos) for block in self.blocks]\n",
        "\n",
        "      # 3. collision check\n",
        "      for pos in new_block_positions:\n",
        "\n",
        "        # horizontal\n",
        "        if pos.x < 0 or pos.x >= COLUMNS:\n",
        "          return\n",
        "\n",
        "        # field check -> collision with other pieces\n",
        "        if self.field_data[int(pos.y)][int(pos.x)]:\n",
        "          return\n",
        "\n",
        "        # vertical / floor check\n",
        "        if pos.y > ROWS:\n",
        "          return\n",
        "\n",
        "      # 4. implement new positions\n",
        "      for i, block in enumerate(self.blocks):\n",
        "        block.pos = new_block_positions"
      ],
      "metadata": {
        "id": "F0a_df5yb6AD"
      },
      "execution_count": 146,
      "outputs": []
    },
    {
      "cell_type": "markdown",
      "source": [
        "##Block"
      ],
      "metadata": {
        "id": "ooIF5F_eZ9jy"
      }
    },
    {
      "cell_type": "code",
      "source": [
        "class Block(pygame.sprite.Sprite):\n",
        "  def __init__(self, group, pos, color):\n",
        "\n",
        "    # general\n",
        "    super().__init__(group)\n",
        "    self.image = pygame.Surface((CELL_SIZE,CELL_SIZE))\n",
        "    self.image.fill(color)\n",
        "    self.rect = self.image.get_rect(topleft = (0,0))\n",
        "\n",
        "    # position\n",
        "    self.pos = pygame.Vector2(pos) + BLOCK_OFFSET\n",
        "    x = self.pos.x * CELL_SIZE\n",
        "    y = self.pos.y * CELL_SIZE\n",
        "    self.rect = self.image.get_rect(topleft = (x,y))\n",
        "\n",
        "  def rotate(self, pivot_pos):\n",
        "    return pivot_pos + (self.pos - pivot_pos).rotate(90)\n",
        "\n",
        "  def horizontal_collide(self, x, field_data):\n",
        "    if not 0 <= x < COLUMNS:\n",
        "      return True\n",
        "\n",
        "    if field_data[int(self.pos.y)][x]:\n",
        "      return True\n",
        "\n",
        "  def vertical_collide(self, y, field_data):\n",
        "    if y >= ROWS:\n",
        "      return True\n",
        "\n",
        "    if y >= 0 and field_data[y][int(self.pos.x)]:\n",
        "      return True\n",
        "\n",
        "  def update(self):\n",
        "    self.rect = self.image.get_rect(topleft = self.pos * CELL_SIZE)"
      ],
      "metadata": {
        "id": "WNtcnZ32b3xS"
      },
      "execution_count": 147,
      "outputs": []
    },
    {
      "cell_type": "markdown",
      "source": [
        "##Timer"
      ],
      "metadata": {
        "id": "tghMeS3qaBWv"
      }
    },
    {
      "cell_type": "code",
      "source": [
        "from pygame.time import get_ticks\n",
        "\n",
        "class Timer:\n",
        "  def __init__(self, duration, repeated = False, func = None):\n",
        "    self.repeated = repeated\n",
        "    self.func = func\n",
        "    self.duration = duration\n",
        "\n",
        "    self.start_time = 0\n",
        "    self.active = False\n",
        "\n",
        "  def activate(self):\n",
        "    self.active = True\n",
        "    self.start_time = pygame.time.get_ticks()\n",
        "\n",
        "  def deactivate(self):\n",
        "      self.active = False\n",
        "      self.start_time = 0\n",
        "\n",
        "  def update(self):\n",
        "    current_time = pygame.time.get_ticks()\n",
        "    if current_time - self.start_time >= self.duration and self.active:\n",
        "\n",
        "      # call a function\n",
        "      if self.func and self.start_time != 0:\n",
        "        self.func()\n",
        "\n",
        "      # reset timer\n",
        "      self.deactivate()\n",
        "\n",
        "      #repeat the timer\n",
        "      if self.repeated:\n",
        "        self.activate()"
      ],
      "metadata": {
        "id": "uEAaxLGACLbF"
      },
      "execution_count": 148,
      "outputs": []
    },
    {
      "cell_type": "markdown",
      "source": [
        "##Main"
      ],
      "metadata": {
        "id": "EXbfh7F0aEHF"
      }
    },
    {
      "cell_type": "code",
      "source": [
        "from sys import exit\n",
        "\n",
        "class Main:\n",
        "  def __init__(self):\n",
        "\n",
        "    # general\n",
        "    pygame.init()\n",
        "    self.display_surface = pygame.display.set_mode((WINDOW_WIDTH,WINDOW_HEIGHT))\n",
        "    self.clock = pygame.time.Clock()\n",
        "\n",
        "    # components\n",
        "    self.game = Game()\n",
        "\n",
        "  def run(self):\n",
        "    while True:\n",
        "      for event in pygame.event.get():\n",
        "        if event.type == pygame.QUIT:\n",
        "          pygame.quit()\n",
        "          exit()\n",
        "\n",
        "      # display\n",
        "      self.display_surface.fill(GRAY)\n",
        "\n",
        "      # components\n",
        "      self.game.run()\n",
        "\n",
        "      # updating the game\n",
        "      pygame.display.update()\n",
        "      self.clock.tick(60)\n",
        "\n",
        "      # convert image so it can be displayed in OpenCV\n",
        "      screen = pygame.surfarray.array3d(self.display_surface)\n",
        "\n",
        "      # convert from (width, height, channel) to (height, width, channel)\n",
        "      screen = screen.transpose([1, 0, 2])\n",
        "\n",
        "      # convert from rgb to bgr\n",
        "      canva = cv2.cvtColor(screen, cv2.COLOR_RGB2BGR)\n",
        "\n",
        "      # display image, when happens a change\n",
        "      cv2_imshow(canva)\n",
        "      output.clear(wait=True)\n",
        "\n",
        "if __name__ == '__main__':\n",
        "  main = Main()\n",
        "  main.run()"
      ],
      "metadata": {
        "id": "YseY7VjkHmqO",
        "colab": {
          "base_uri": "https://localhost:8080/",
          "height": 857
        },
        "outputId": "9dc66226-7170-4f32-f0d6-a1bb012c39e8"
      },
      "execution_count": null,
      "outputs": [
        {
          "output_type": "display_data",
          "data": {
            "text/plain": [
              "<PIL.Image.Image image mode=RGB size=440x840>"
            ],
            "image/png": "[encoded data removed]"
          },
          "metadata": {}
        }
      ]
    }
  ]
}